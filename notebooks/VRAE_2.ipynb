{
 "cells": [
  {
   "cell_type": "code",
   "execution_count": 1,
   "metadata": {
    "collapsed": true
   },
   "outputs": [],
   "source": [
    "import numpy as np\n",
    "import tensorflow as tf"
   ]
  },
  {
   "cell_type": "code",
   "execution_count": 2,
   "metadata": {
    "collapsed": true
   },
   "outputs": [],
   "source": [
    "def load_midi_data(data_dir):\n",
    "    import midi.utils as utils\n",
    "\n",
    "    midi_data = utils.midiread(data_dir, dt=0.5)\n",
    "\n",
    "    return midi_data.piano_roll"
   ]
  },
  {
   "cell_type": "code",
   "execution_count": 3,
   "metadata": {
    "collapsed": false
   },
   "outputs": [],
   "source": [
    "midi = load_midi_data('sample1.mid')\n",
    "train_x = midi[:120].astype(np.float32)\n",
    "n_x = train_x.shape[1]\n",
    "n_hidden = [250]\n",
    "n_z = 2\n",
    "n_y = n_x\n",
    "\n",
    "frames  = train_x.shape[0]\n",
    "n_batch = 6\n",
    "seq_length = frames / n_batch\n",
    "\n",
    "split_x = np.vsplit(train_x, n_batch)\n",
    "n_input = 20\n",
    "n_epochs = 100"
   ]
  },
  {
   "cell_type": "code",
   "execution_count": 4,
   "metadata": {
    "collapsed": true
   },
   "outputs": [],
   "source": [
    "from tensorflow.models.rnn import rnn, rnn_cell"
   ]
  },
  {
   "cell_type": "code",
   "execution_count": 5,
   "metadata": {
    "collapsed": false
   },
   "outputs": [],
   "source": [
    "from tensorflow.python.ops import variable_scope as vs\n",
    "from tensorflow.python.ops import array_ops\n",
    "from tensorflow.python.ops.math_ops import tanh\n",
    "from tensorflow.python.ops import math_ops\n",
    "from tensorflow.python.ops import init_ops\n",
    "\n",
    "class BasicCell(object):\n",
    "    \n",
    "    def __init__(self, num_units, input_size=None):\n",
    "        if input_size is not None:\n",
    "            logging.warn(\"%s: The input_size parameter is deprecated.\" % self)\n",
    "        self._num_units = num_units\n",
    "    \n",
    "    def zero_state(self, dtype):\n",
    "        zeros = array_ops.zeros(\n",
    "            array_ops.pack([1, self._num_units]), dtype=dtype)\n",
    "        zeros.set_shape([None, self._num_units])\n",
    "        return zeros\n",
    "    \n",
    "    def __call__(self, inputs, state, scope=None):\n",
    "        with vs.variable_scope(scope or type(self).__name__):\n",
    "            output = tanh(self.linear([inputs, state], self._num_units, False, scope=scope))\n",
    "        return output, output\n",
    "    \n",
    "    def linear(self, args, output_size, bias, bias_start=0.0, scope=None):\n",
    "        if args is None or (isinstance(args, (list, tuple)) and not args):\n",
    "            raise ValueError(\"`args` must be specified\")\n",
    "        if not isinstance(args, (list, tuple)):\n",
    "            args = [args]\n",
    "        # Calculate the total size of arguments on dimension 1.\n",
    "        total_arg_size = 0\n",
    "        shapes = [a.get_shape().as_list() for a in args]\n",
    "        for shape in shapes:\n",
    "            if len(shape) != 2:\n",
    "                raise ValueError(\"Linear is expecting 2D arguments: %s\" % str(shapes))\n",
    "            if not shape[1]:\n",
    "                raise ValueError(\"Linear expects shape[1] of arguments: %s\" % str(shapes))\n",
    "            else:\n",
    "                total_arg_size += shape[1]\n",
    "\n",
    "        # Now the computation.\n",
    "        with vs.variable_scope(scope or \"Linear\"):\n",
    "            matrix_in = vs.get_variable(\"MatrixIn\", [shapes[0][1], shapes[1][1]])\n",
    "            matrix_state = vs.get_variable(\"MatrixState\", [shapes[1][1], output_size])\n",
    "            if len(args) == 1:\n",
    "                res = math_ops.matmul(args[0], matrix)\n",
    "            else:\n",
    "                res = math_ops.add(math_ops.matmul(args[0], matrix_in), math_ops.matmul(args[1], matrix_state))\n",
    "            if not bias:\n",
    "                return res\n",
    "            bias_term = vs.get_variable(\n",
    "            \"Bias\", [output_size],\n",
    "            initializer=init_ops.constant_initializer(bias_start))\n",
    "            return math_ops.add(res, bias_term)"
   ]
  },
  {
   "cell_type": "code",
   "execution_count": 6,
   "metadata": {
    "collapsed": true
   },
   "outputs": [],
   "source": [
    "from tensorflow.python.framework import ops\n",
    "from tensorflow.python.ops.math_ops import tanh\n",
    "from tensorflow.python.ops import math_ops\n",
    "from tensorflow.python.ops import nn_ops\n",
    "\n",
    "def sigmoid_cross_entropy_with_logits(logits, targets, name=None):\n",
    "  \"\"\"Computes sigmoid cross entropy given `logits`.\n",
    "\n",
    "  Measures the probability error in discrete classification tasks in which each\n",
    "  class is independent and not mutually exclusive.  For instance, one could\n",
    "  perform multilabel classification where a picture can contain both an elephant\n",
    "  and a dog at the same time.\n",
    "\n",
    "  For brevity, let `x = logits`, `z = targets`.  The logistic loss is\n",
    "\n",
    "        z * -log(sigmoid(x)) + (1 - z) * -log(1 - sigmoid(x))\n",
    "      = z * -log(1 / (1 + exp(-x))) + (1 - z) * -log(exp(-x) / (1 + exp(-x)))\n",
    "      = z * log(1 + exp(-x)) + (1 - z) * (-log(exp(-x)) + log(1 + exp(-x)))\n",
    "      = z * log(1 + exp(-x)) + (1 - z) * (x + log(1 + exp(-x))\n",
    "      = (1 - z) * x + log(1 + exp(-x))\n",
    "      = x - x * z + log(1 + exp(-x))\n",
    "\n",
    "  To ensure stability and avoid overflow, the implementation uses\n",
    "\n",
    "      max(x, 0) - x * z + log(1 + exp(-abs(x)))\n",
    "\n",
    "  `logits` and `targets` must have the same type and shape.\n",
    "\n",
    "  Args:\n",
    "    logits: A `Tensor` of type `float32` or `float64`.\n",
    "    targets: A `Tensor` of the same type and shape as `logits`.\n",
    "    name: A name for the operation (optional).\n",
    "\n",
    "  Returns:\n",
    "    A `Tensor` of the same shape as `logits` with the componentwise\n",
    "    logistic losses.\n",
    "\n",
    "  Raises:\n",
    "    ValueError: If `logits` and `targets` do not have the same shape.\n",
    "  \"\"\"\n",
    "  with ops.op_scope([logits, targets], name, \"logistic_loss\") as name:\n",
    "    logits = ops.convert_to_tensor(logits, name=\"logits\")\n",
    "    targets = ops.convert_to_tensor(targets, name=\"targets\")\n",
    "    try:\n",
    "      targets.get_shape().merge_with(logits.get_shape())\n",
    "    except ValueError:\n",
    "      raise ValueError(\n",
    "          \"logits and targets must have the same shape (%s vs %s)\"\n",
    "          % (logits.get_shape(), targets.get_shape()))\n",
    "\n",
    "    # The logistic loss formula from above is\n",
    "    #   x - x * z + log(1 + exp(-x))\n",
    "    # For x < 0, a more numerically stable formula is\n",
    "    #   -x * z + log(1 + exp(x))\n",
    "    # To avoid branching, we use the combined version\n",
    "    #   max(x, 0) - x * z + log(1 + exp(-abs(x)))\n",
    "    return math_ops.add(nn_ops.relu(logits) - logits * targets,\n",
    "                        math_ops.log(1 + math_ops.exp(-math_ops.abs(logits))),\n",
    "                        name=name)"
   ]
  },
  {
   "cell_type": "code",
   "execution_count": 7,
   "metadata": {
    "collapsed": false
   },
   "outputs": [],
   "source": [
    "class VRAE(object):\n",
    "    \n",
    "    def __init__(self, seq_length, n_z, n_hidden, n_input, train_x, optimizer = tf.train.AdamOptimizer()):\n",
    "        tf.set_random_seed(42)\n",
    "        self.learning_rate = 0.001\n",
    "        self.seq_length = seq_length\n",
    "        self.n_hidden = n_hidden\n",
    "        self.n_input = n_input\n",
    "        self.train_x = train_x\n",
    "        self.n_size = 88\n",
    "        network_weights = self._initialize_weights()\n",
    "        self.weights = network_weights\n",
    "        #self.output = tf.placeholder(tf.float32, [seq_length, self.n_size])\n",
    "        self.x = tf.placeholder(tf.float32, [seq_length, self.n_size])\n",
    "        self.sample_z = tf.placeholder(tf.float32, [seq_length, self.n_size])\n",
    "        self.output = tf.zeros([0, self.n_size])\n",
    "        \n",
    "        self.basic_cell = BasicCell(n_hidden[0])\n",
    "        self._initial_state = self.basic_cell.zero_state(tf.float32)\n",
    "        self.state = self._initial_state\n",
    "        with tf.variable_scope(\"RNN\") as scope:\n",
    "            for time_step in range(n_input):\n",
    "                # x_in_t = tf.Variable(self.x[time_step].reshape((1, self.x.shape[1])))\n",
    "                x_in_t = tf.reshape(tf.slice(self.x, [time_step, 0], [1, self.n_size]), (1, self.n_size))\n",
    "                # x_in_t = self.x[time_step].reshape((1, self.x.shape[1]))\n",
    "                if time_step > 0:\n",
    "                    tf.get_variable_scope().reuse_variables()\n",
    "                cell_output, self.state = self.basic_cell(x_in_t, self.state)\n",
    "        \n",
    "        q_mean = tf.add(tf.matmul(self.state, self.weights['W_hmu']), self.weights['b_hmu'])\n",
    "        log_sigma_encoder = tf.add(tf.matmul(self.state, self.weights['W_hsigma']), self.weights['b_hsigma'])\n",
    "        \n",
    "        logpz = -0.5 * tf.reduce_sum(1 + log_sigma_encoder \n",
    "                                           - tf.square(q_mean) \n",
    "                                           - tf.exp(log_sigma_encoder), 1)\n",
    "        \n",
    "        eps = tf.random_normal(tf.shape(log_sigma_encoder), 0, 1, dtype = tf.float32)\n",
    "        \n",
    "        self.z = tf.add(q_mean, tf.mul(tf.exp(0.5 * log_sigma_encoder), eps))\n",
    "        \n",
    "        h0_dec = tf.nn.tanh(tf.add(tf.matmul(self.z, self.weights['W_zh']), self.weights['b_zh']))\n",
    "        \n",
    "        # out= tf.add(tf.matmul(state, self.weights['out']), self.weights['out_b'])\n",
    "        # x_0 = tf.nn.sigmoid(out)\n",
    "        \n",
    "        #self.output = x_0\n",
    "        #rec_loss = tf.nn.sigmoid_cross_entropy_with_logits(x_0, \n",
    "        #                tf.reshape(tf.slice(self.x, [0,0],[1,self.n_size]), (1, self.n_size)))\n",
    "        \n",
    "        #x_t = x_0\n",
    "        \n",
    "        self.basic_cell2 = BasicCell(self.n_hidden[0])\n",
    "        state_x = tf.zeros([1, self.n_size])\n",
    "        out_ = tf.zeros([0, self.n_size])\n",
    "        \n",
    "        with tf.variable_scope(\"gen\") as scope:\n",
    "            for i in range(0, n_input):\n",
    "                if i > 0:\n",
    "                    tf.get_variable_scope().reuse_variables()\n",
    "                (cell_output, h0_dec) = self.basic_cell2(state_x, h0_dec)\n",
    "                x_t_1 = tf.add(tf.matmul(h0_dec, self.weights['W_hx']), self.weights['b_hx'])\n",
    "                state_x = tf.nn.sigmoid(x_t_1)\n",
    "                out_ = tf.concat(0, [out_, state_x])\n",
    "                output_t = tf.squeeze(1 / (1 + tf.exp(-(x_t_1))))\n",
    "                self.output = tf.concat(0, [self.output, tf.reshape(output_t, (1, 88))])\n",
    "\n",
    "        out_ = tf.clip_by_value(out_, 1e-6, 1 - 1e-6)\n",
    "        #reconstr_loss = \\\n",
    "        #    -tf.reduce_sum(self.x * tf.log(1e-10 + out_)\n",
    "        #                   + (1-self.x) * tf.log(1e-10 + 1 - out_),\n",
    "        #                   1)\n",
    "        \n",
    "        logpxz = 0.5 * tf.reduce_sum(tf.pow(tf.sub(out_, self.x), 2.0))\n",
    "        #reconstr_loss = -1 * tf.nn.sigmoid_cross_entropy_with_logits(out_, self.x)\n",
    "            \n",
    "        #logpxz = tf.reduce_mean(reconstr_loss)\n",
    "        \n",
    "        self.cost = tf.reduce_mean(logpxz + logpz)\n",
    "        \n",
    "        self.optimizer = \\\n",
    "            tf.train.AdamOptimizer(learning_rate=self.learning_rate).minimize(self.cost)\n",
    "            \n",
    "        init = tf.initialize_all_variables()\n",
    "        self.sess = tf.InteractiveSession()\n",
    "        self.sess.run(init)\n",
    "        \n",
    "    def _initialize_weights(self):\n",
    "        all_weights = dict()\n",
    "        all_weights['W_hmu'] = tf.Variable(self.xavier_init(self.n_hidden[-1], n_z))\n",
    "        all_weights['b_hmu'] = tf.Variable(tf.zeros([n_z], dtype=tf.float32))\n",
    "        all_weights['W_hsigma'] = tf.Variable(self.xavier_init(self.n_hidden[-1], n_z))\n",
    "        all_weights['b_hsigma'] = tf.Variable(tf.zeros([n_z], dtype=tf.float32))\n",
    "        all_weights['W_zh'] = tf.Variable(self.xavier_init(n_z, n_hidden[0]))\n",
    "        all_weights['b_zh'] = tf.Variable(tf.zeros([self.n_hidden[0]], dtype=tf.float32))\n",
    "        all_weights['W_hx'] = tf.Variable(self.xavier_init(self.n_hidden[-1], self.train_x.shape[1]))\n",
    "        all_weights['b_hx'] = tf.Variable(tf.zeros([self.train_x.shape[1]], dtype=tf.float32))\n",
    "        \"\"\"\n",
    "        all_weights['W_hmu'] = tf.Variable(tf.zeros([self.n_hidden[-1], n_z], dtype=tf.float32))\n",
    "        all_weights['b_hmu'] = tf.Variable(tf.zeros([n_z], dtype=tf.float32))\n",
    "        all_weights['W_hsigma'] = tf.Variable(tf.zeros([self.n_hidden[-1], n_z], dtype=tf.float32))\n",
    "        all_weights['b_hsigma'] = tf.Variable(tf.zeros([n_z], dtype=tf.float32))\n",
    "        all_weights['W_zh'] = tf.Variable(tf.zeros([n_z, n_hidden[0]], dtype=tf.float32))\n",
    "        all_weights['b_zh'] = tf.Variable(tf.zeros([self.n_hidden[0]], dtype=tf.float32))\n",
    "        all_weights['W_hx'] = tf.Variable(tf.zeros([self.n_hidden[-1], self.train_x.shape[1]], dtype=tf.float32))\n",
    "        all_weights['b_hx'] = tf.Variable(tf.zeros([self.train_x.shape[1]], dtype=tf.float32))\n",
    "        \"\"\"\n",
    "        return all_weights\n",
    "    \n",
    "    def xavier_init(self, fan_in, fan_out, constant = 1):\n",
    "        low = -constant * np.sqrt(6.0 / (fan_in + fan_out))\n",
    "        high = constant * np.sqrt(6.0 / (fan_in + fan_out))\n",
    "        return tf.random_uniform((fan_in, fan_out),\n",
    "                             minval = low, maxval = high,\n",
    "                             dtype = tf.float32)\n",
    "    \n",
    "    def transform(self, X):\n",
    "        self.x_sample = tf.placeholder(tf.float32, [seq_length, self.n_size])\n",
    "        state = self.basic_cell.zero_state(tf.float32)\n",
    "        \n",
    "        with tf.variable_scope(\"RNN\") as scope:\n",
    "            for t in xrange(self.x_sample.get_shape()[0]):\n",
    "                x_in_t = tf.reshape(tf.slice(self.x_sample, [t, 0], [1, self.n_size]), (1, self.n_size))\n",
    "                tf.get_variable_scope().reuse_variables()\n",
    "                cell_output, state = self.basic_cell(x_in_t, state)\n",
    "        \n",
    "        self.mu_encoder = tf.add(tf.matmul(state, self.weights['W_hmu']), self.weights['b_hmu'])\n",
    "        mu_e = self.mu_encoder\n",
    "        self.log_sigma_encoder = tf.add(tf.matmul(state, self.weights['W_hsigma']), self.weights['b_hsigma'])\n",
    "        l_sig = self.log_sigma_encoder\n",
    "        self.z_t = tf.random_normal(tf.shape(l_sig), mu_e, tf.exp(l_sig))\n",
    "        \n",
    "        z, mu_encoder, log_sigma_encoder = \\\n",
    "            self.sess.run((self.z_t, self.mu_encoder, self.log_sigma_encoder), feed_dict={self.x_sample: X})\n",
    "        return z, mu_encoder, log_sigma_encoder\n",
    "        \n",
    "    def generate(self, Z, latent_variable, t_steps):\n",
    "        \n",
    "        self.z_mu = tf.placeholder(tf.float32, [1,latent_variable])\n",
    "        self.x_gen = array_ops.zeros((1, self.train_x.shape[1]), dtype=tf.float32)\n",
    "        h = tf.add(tf.matmul(self.z_mu, self.weights['W_zh']), self.weights['b_zh'])\n",
    "        \n",
    "        with tf.variable_scope(\"gen\") as scope:\n",
    "            for t in range(0, t_steps):\n",
    "                tf.get_variable_scope().reuse_variables()\n",
    "                x_ = tf.reshape(tf.slice(self.x_gen, [t, 0], [1, self.n_size]), (1, self.n_size))\n",
    "                cell_output, h = self.basic_cell2(x_, h)\n",
    "                out = tf.add(tf.matmul(h, self.weights['W_hx']), self.weights['b_hx'])\n",
    "                #out= tf.add(tf.matmul(h, self.weights['out']), self.weights['out_b'])\n",
    "                res = tf.squeeze(1 / (1 + tf.exp(-(out))))\n",
    "                #x_0 = tf.nn.sigmoid(out)\n",
    "                self.x_gen = tf.concat(0, [self.x_gen, tf.reshape(res, (1, 88))])\n",
    "                \n",
    "        x_gen = \\\n",
    "            self.sess.run((self.x_gen), feed_dict={self.z_mu: Z})\n",
    "        return x_gen\n",
    "    \n",
    "    def get_out_weights(self):\n",
    "        weight = self.sess.run((self.weights[\"W_hsigma\"]))\n",
    "        return weight\n",
    "        \n",
    "    def partial_fit(self, X):\n",
    "        cost, opt, out, z = self.sess.run((self.cost, self.optimizer, self.output, self.z), feed_dict={self.x: X})\n",
    "        return cost, out, z"
   ]
  },
  {
   "cell_type": "code",
   "execution_count": 8,
   "metadata": {
    "collapsed": false,
    "scrolled": true
   },
   "outputs": [
    {
     "name": "stdout",
     "output_type": "stream",
     "text": [
      "Epoch: 0011 cost= 50.490898132\n",
      "Epoch: 0021 cost= 32.439586639\n",
      "Epoch: 0031 cost= 32.940731049\n",
      "Epoch: 0041 cost= 31.752468109\n",
      "Epoch: 0051 cost= 32.033073425\n",
      "Epoch: 0061 cost= 30.875164032\n",
      "Epoch: 0071 cost= 31.011676788\n",
      "Epoch: 0081 cost= 29.653312683\n",
      "Epoch: 0091 cost= 28.669437408\n",
      "Epoch: 0101 cost= 28.362541199\n"
     ]
    }
   ],
   "source": [
    "import time\n",
    "import cPickle as pickle\n",
    "import copy\n",
    "import midi.utils as utils\n",
    "\n",
    "display_step = 10\n",
    "\n",
    "model = VRAE(seq_length, n_z, n_hidden, n_input, train_x)\n",
    "for epoch in xrange(1, n_epochs + 1):\n",
    "    #print('epoch', epoch)\n",
    "    t1 = time.time()\n",
    "    total_loss = 0.0\n",
    "    outputs = np.zeros(train_x.shape, dtype=np.float32)\n",
    "    for i in xrange(n_batch):\n",
    "        x_batch = split_x[i]\n",
    "        cost, out, z = model.partial_fit(x_batch)\n",
    "        outputs[i*seq_length:(i+1)*seq_length, :] = out\n",
    "    if epoch % display_step == 0:\n",
    "        #utils.midiwrite('VRAE_100.midi', outputs, dt=0.5)\n",
    "        print \"Epoch:\", '%04d' % (epoch + 1), \\\n",
    "                \"cost=\", \"{:.9f}\".format(cost)\n"
   ]
  },
  {
   "cell_type": "code",
   "execution_count": 9,
   "metadata": {
    "collapsed": false,
    "scrolled": true
   },
   "outputs": [],
   "source": [
    "import collections\n",
    "\n",
    "def convert2Midi(out):\n",
    "    output = []\n",
    "    for o in out:\n",
    "        count_dict = collections.Counter(o)\n",
    "        maxavg = max(count_dict.items(), key=lambda x:x[1])[0]\n",
    "        output.append([1 if x > 0.5 else 0 for x in o])\n",
    "    return np.asarray(output)"
   ]
  },
  {
   "cell_type": "code",
   "execution_count": 10,
   "metadata": {
    "collapsed": true
   },
   "outputs": [],
   "source": [
    "o_sample = load_midi_data('hotarunohikari.mid')\n",
    "o_sample = o_sample[:20].astype(np.float32)"
   ]
  },
  {
   "cell_type": "code",
   "execution_count": 11,
   "metadata": {
    "collapsed": false
   },
   "outputs": [],
   "source": [
    "zo, _1, _2 = model.transform(o_sample)\n",
    "z, mu_encoder, log_sigma_encoder = model.transform(split_x[0])"
   ]
  },
  {
   "cell_type": "code",
   "execution_count": 12,
   "metadata": {
    "collapsed": false
   },
   "outputs": [],
   "source": [
    "o_sample_gen = model.generate(zo, n_z, 20)\n",
    "out_gen = model.generate(z, n_z, 20)"
   ]
  },
  {
   "cell_type": "code",
   "execution_count": 13,
   "metadata": {
    "collapsed": true
   },
   "outputs": [],
   "source": [
    "out_gen_conv = convert2Midi(out_gen)\n",
    "o_sample_gen_conv = convert2Midi(o_sample_gen)"
   ]
  },
  {
   "cell_type": "code",
   "execution_count": 14,
   "metadata": {
    "collapsed": true
   },
   "outputs": [],
   "source": [
    "utils.midiwrite('Midi_oSample.mid', o_sample_gen_conv, dt=0.5)\n",
    "utils.midiwrite('Midi_Gen.mid', out_gen_conv, dt=0.5)\n",
    "utils.midiwrite('Midi_Src.mid', split_x[0], dt=0.5)"
   ]
  },
  {
   "cell_type": "code",
   "execution_count": 15,
   "metadata": {
    "collapsed": false
   },
   "outputs": [],
   "source": [
    "from pylab import *\n",
    "%matplotlib inline"
   ]
  },
  {
   "cell_type": "code",
   "execution_count": 16,
   "metadata": {
    "collapsed": false
   },
   "outputs": [
    {
     "data": {
      "text/plain": [
       "<matplotlib.text.Text at 0x7fe891383ad0>"
      ]
     },
     "execution_count": 16,
     "metadata": {},
     "output_type": "execute_result"
    },
    {
     "data": {
      "image/png": "[encoded data removed]",
      "text/plain": [
       "<matplotlib.figure.Figure at 0x7fe8916698d0>"
      ]
     },
     "metadata": {},
     "output_type": "display_data"
    }
   ],
   "source": [
    "figure()\n",
    "extent = (0, 0.5 * len(o_sample_gen_conv)) + (21, 109)\n",
    "imshow(o_sample_gen_conv, origin='lower', aspect='auto',\n",
    "                         interpolation='nearest', cmap=cm.gray_r,\n",
    "                         extent=extent)\n",
    "xlabel('time (s)')\n",
    "ylabel('MIDI note number')\n",
    "title('oSample piano-roll')"
   ]
  },
  {
   "cell_type": "code",
   "execution_count": 17,
   "metadata": {
    "collapsed": false
   },
   "outputs": [
    {
     "data": {
      "text/plain": [
       "<matplotlib.text.Text at 0x7fe8912819d0>"
      ]
     },
     "execution_count": 17,
     "metadata": {},
     "output_type": "execute_result"
    },
    {
     "data": {
      "image/png": "[encoded data removed]",
      "text/plain": [
       "<matplotlib.figure.Figure at 0x7fe89137b4d0>"
      ]
     },
     "metadata": {},
     "output_type": "display_data"
    }
   ],
   "source": [
    "figure()\n",
    "extent = (0, 0.5 * len(out_gen_conv)) + (21, 109)\n",
    "imshow(out_gen_conv, origin='lower', aspect='auto',\n",
    "                         interpolation='nearest', cmap=cm.gray_r,\n",
    "                         extent=extent)\n",
    "xlabel('time (s)')\n",
    "ylabel('MIDI note number')\n",
    "title('generated piano-roll')"
   ]
  },
  {
   "cell_type": "code",
   "execution_count": 18,
   "metadata": {
    "collapsed": false
   },
   "outputs": [
    {
     "data": {
      "text/plain": [
       "<matplotlib.text.Text at 0x7fe8911b1a10>"
      ]
     },
     "execution_count": 18,
     "metadata": {},
     "output_type": "execute_result"
    },
    {
     "data": {
      "image/png": "[encoded data removed]",
      "text/plain": [
       "<matplotlib.figure.Figure at 0x7fe89124bc50>"
      ]
     },
     "metadata": {},
     "output_type": "display_data"
    }
   ],
   "source": [
    "figure()\n",
    "extent = (0, 0.5 * len(split_x[0])) + (21, 109)\n",
    "imshow(split_x[0], origin='lower', aspect='auto',\n",
    "                         interpolation='nearest', cmap=cm.gray_r,\n",
    "                         extent=extent)\n",
    "xlabel('time (s)')\n",
    "ylabel('MIDI note number')\n",
    "title('source piano-roll')"
   ]
  },
  {
   "cell_type": "code",
   "execution_count": null,
   "metadata": {
    "collapsed": true
   },
   "outputs": [],
   "source": []
  }
 ],
 "metadata": {
  "kernelspec": {
   "display_name": "Python 2",
   "language": "python",
   "name": "python2"
  },
  "language_info": {
   "codemirror_mode": {
    "name": "ipython",
    "version": 2
   },
   "file_extension": ".py",
   "mimetype": "text/x-python",
   "name": "python",
   "nbconvert_exporter": "python",
   "pygments_lexer": "ipython2",
   "version": "2.7.6"
  }
 },
 "nbformat": 4,
 "nbformat_minor": 0
}

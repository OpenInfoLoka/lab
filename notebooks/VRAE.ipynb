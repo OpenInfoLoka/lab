{
 "cells": [
  {
   "cell_type": "code",
   "execution_count": 1,
   "metadata": {
    "collapsed": true
   },
   "outputs": [],
   "source": [
    "import numpy as np\n",
    "import tensorflow as tf"
   ]
  },
  {
   "cell_type": "code",
   "execution_count": 2,
   "metadata": {
    "collapsed": true
   },
   "outputs": [],
   "source": [
    "def load_midi_data(data_dir):\n",
    "    import midi.utils as utils\n",
    "\n",
    "    midi_data = utils.midiread(data_dir, dt=0.5)\n",
    "\n",
    "    return midi_data.piano_roll"
   ]
  },
  {
   "cell_type": "code",
   "execution_count": 3,
   "metadata": {
    "collapsed": false
   },
   "outputs": [],
   "source": [
    "midi = load_midi_data('sample1.mid')\n",
    "train_x = midi[:120].astype(np.float32)\n",
    "n_x = train_x.shape[1]\n",
    "n_hidden = [500]\n",
    "n_z = 2\n",
    "n_y = n_x\n",
    "\n",
    "frames  = train_x.shape[0]\n",
    "n_batch = 6\n",
    "seq_length = frames / n_batch\n",
    "\n",
    "split_x = np.vsplit(train_x, n_batch)\n",
    "n_input = 20\n",
    "n_epochs = 500"
   ]
  },
  {
   "cell_type": "code",
   "execution_count": 5,
   "metadata": {
    "collapsed": true
   },
   "outputs": [],
   "source": [
    "from tensorflow.models.rnn import rnn, rnn_cell"
   ]
  },
  {
   "cell_type": "code",
   "execution_count": 6,
   "metadata": {
    "collapsed": false
   },
   "outputs": [],
   "source": [
    "class VARE(object):\n",
    "    \n",
    "    def __init__(self, batch_size, n_z, n_hidden, n_input, train_x, optimizer = tf.train.AdamOptimizer()):\n",
    "        self.learning_rate = 0.001\n",
    "        self.batch_size = batch_size\n",
    "        self.n_hidden = n_hidden\n",
    "        self.n_input = n_input\n",
    "        self.train_x = train_x\n",
    "        \n",
    "        self.x = tf.placeholder(tf.float32, [batch_size, n_input])\n",
    "        \n",
    "        basic_cell = rnn_cell.BasicRNNCell(self.n_hidden[0])\n",
    "        self._initial_state = basic_cell.zero_state(batch_size, tf.float32)\n",
    "        state = self._initial_state\n",
    "        \n",
    "        with tf.variable_scope(\"RNN\") as scope:\n",
    "            for time_step in range(n_input):\n",
    "                # x_in_t = tf.Variable(self.x[time_step].reshape((1, self.x.shape[1])))\n",
    "                x_in_t = tf.reshape(tf.slice(self.x, [0, 0], [1, n_input]), (1, n_input))\n",
    "                # x_in_t = self.x[time_step].reshape((1, self.x.shape[1]))\n",
    "                if time_step > 0:\n",
    "                    scope.reuse_variables()\n",
    "                cell_output, state = basic_cell(x_in_t, state)\n",
    "        \n",
    "        network_weights = self._initialize_weights()\n",
    "        self.weights = network_weights\n",
    "        \n",
    "        q_mean = tf.add(tf.matmul(state, self.weights['recog_mean']), self.weights['recog_mean_b'])\n",
    "        log_sigma_sq = 0.5 * tf.add(tf.matmul(state, self.weights['recog_log_sigma']), self.weights['recog_log_sigma_b'])\n",
    "        \n",
    "        eps = tf.random_normal(tf.shape(log_sigma_sq), 0, 1, dtype = tf.float32)\n",
    "\n",
    "        self.z = tf.add(q_mean, tf.mul(tf.exp(log_sigma_sq), eps))\n",
    "        \n",
    "        h0 = tf.nn.tanh(tf.add(tf.matmul(self.z, self.weights['h0']), self.weights['h0_b']))\n",
    "        out= tf.add(tf.matmul(h0, self.weights['out']), self.weights['out_b'])\n",
    "        \n",
    "        x_0 = tf.nn.tanh(out)\n",
    "        \n",
    "        output[0] = x_0.data\n",
    "        \n",
    "        rec_loss = tf.nn.sigmoid_cross_entropy_with_logits(out, tf.Variable(self.x[0].reshape((1, self.x.shape[1])).astype(np.int32)))\n",
    "        \n",
    "        x_t = x_0\n",
    "        \n",
    "        basic_cell2 = rnn_cell.BasicRNNCell(self.n_hidden[0])\n",
    "        \n",
    "        with tf.variable_scope(\"h0\") as scope:\n",
    "            for i in range(1, self.x.shape[0]):\n",
    "                if i > 0:\n",
    "                    scope.reuse_variables()\n",
    "                (cell_output, state) = basic_cell(x_t, state)\n",
    "                x_t_1 = tf.add(tf.matmul(state, self.weights['out']), self.weights['out_b'])\n",
    "                rec_loss += tf.nn.sigmoid_cross_entropy_with_logits(out, Variable(self.x[i].reshape((1,self.x.shape[1])).astype(np.int32)))\n",
    "                x_t = output_t = tf.nn.tanh(x_t_1)\n",
    "                output[i]  = output_t.data\n",
    "        \n",
    "        KLD = -0.0005 * tf.reduce_sum(1 + log_sigma_sq \n",
    "                                           - tf.square(q_mean) \n",
    "                                           - tf.exp(log_sigma_sq), 1)\n",
    "        \n",
    "        self.cost = tf.reduce_mean(rec_loss + KLD)\n",
    "        \n",
    "        self.optimizer = \\\n",
    "            tf.train.AdamOptimizer(learning_rate=self.learning_rate).minimize(self.cost)\n",
    "        \n",
    "        #init = tf.initialize_all_variables()\n",
    "        #self.sess = tf.Session()\n",
    "        #self.sess.run(init)\n",
    "                \n",
    "    def _initialize_weights(self):\n",
    "        all_weights = dict()\n",
    "        all_weights['recog_mean'] = tf.Variable(tf.zeros([self.n_hidden[-1], 2], dtype=tf.float32))\n",
    "        all_weights['recog_mean_b'] = tf.Variable(tf.zeros([n_z], dtype=tf.float32))\n",
    "        all_weights['recog_log_sigma'] = tf.Variable(tf.zeros([self.n_hidden[0], n_z], dtype=tf.float32))\n",
    "        all_weights['recog_log_sigma_b'] = tf.Variable(tf.zeros([n_z], dtype=tf.float32))\n",
    "        all_weights['h0'] = tf.Variable(tf.zeros([n_z, n_hidden[0]], dtype=tf.float32))\n",
    "        all_weights['h0_b'] = tf.Variable(tf.zeros([self.n_hidden[0]], dtype=tf.float32))\n",
    "        all_weights['out'] = tf.Variable(tf.zeros([self.n_hidden[-1], self.train_x.shape[1]], dtype=tf.float32))\n",
    "        all_weights['out_b'] = tf.Variable(tf.zeros([self.train_x.shape[1]], dtype=tf.float32))\n",
    "        all_weights['gen_in_h'] = tf.Variable(tf.zeros([self.train_x.shape[1], self.train_x.shape[1]], dtype=tf.float32))\n",
    "        all_weights['gen_in_h_b'] = tf.Variable(tf.zeros([self.train_x.shape[1]], dtype=tf.float32))\n",
    "        all_weights['gen_h_h'] = tf.Variable(tf.zeros([self.n_hidden[-1], self.train_x.shape[1]], dtype=tf.float32))\n",
    "        all_weights['gen_h_h_b'] = tf.Variable(tf.zeros([self.train_x.shape[1]], dtype=tf.float32))\n",
    "        return all_weights\n",
    "    \n",
    "    def partial_fit(self, X):\n",
    "        cost, opt = self.sess.run((self.cost, self.optimizer), feed_dict={self.x: X})\n",
    "        return cost\n",
    "    "
   ]
  },
  {
   "cell_type": "code",
   "execution_count": 7,
   "metadata": {
    "collapsed": false
   },
   "outputs": [
    {
     "ename": "AttributeError",
     "evalue": "'Tensor' object has no attribute 'data'",
     "output_type": "error",
     "traceback": [
      "\u001b[1;31m---------------------------------------------------------------------------\u001b[0m",
      "\u001b[1;31mAttributeError\u001b[0m                            Traceback (most recent call last)",
      "\u001b[1;32m<ipython-input-7-d64f3c5d8114>\u001b[0m in \u001b[0;36m<module>\u001b[1;34m()\u001b[0m\n\u001b[0;32m      1\u001b[0m \u001b[0mdisplay_step\u001b[0m \u001b[1;33m=\u001b[0m \u001b[1;36m1\u001b[0m\u001b[1;33m\u001b[0m\u001b[0m\n\u001b[0;32m      2\u001b[0m \u001b[1;33m\u001b[0m\u001b[0m\n\u001b[1;32m----> 3\u001b[1;33m \u001b[0mmodel\u001b[0m \u001b[1;33m=\u001b[0m \u001b[0mVARE\u001b[0m\u001b[1;33m(\u001b[0m\u001b[0mn_batch\u001b[0m\u001b[1;33m,\u001b[0m \u001b[0mn_z\u001b[0m\u001b[1;33m,\u001b[0m \u001b[0mn_hidden\u001b[0m\u001b[1;33m,\u001b[0m \u001b[0mn_input\u001b[0m\u001b[1;33m,\u001b[0m \u001b[0mtrain_x\u001b[0m\u001b[1;33m)\u001b[0m\u001b[1;33m\u001b[0m\u001b[0m\n\u001b[0m\u001b[0;32m      4\u001b[0m \u001b[1;33m\u001b[0m\u001b[0m\n\u001b[0;32m      5\u001b[0m \u001b[1;32mfor\u001b[0m \u001b[0mepoch\u001b[0m \u001b[1;32min\u001b[0m \u001b[0mxrange\u001b[0m\u001b[1;33m(\u001b[0m\u001b[1;36m1\u001b[0m\u001b[1;33m,\u001b[0m \u001b[0mn_epochs\u001b[0m \u001b[1;33m+\u001b[0m \u001b[1;36m1\u001b[0m\u001b[1;33m)\u001b[0m\u001b[1;33m:\u001b[0m\u001b[1;33m\u001b[0m\u001b[0m\n",
      "\u001b[1;32m<ipython-input-6-7d09b3b738fb>\u001b[0m in \u001b[0;36m__init__\u001b[1;34m(self, batch_size, n_z, n_hidden, n_input, train_x, optimizer)\u001b[0m\n\u001b[0;32m     38\u001b[0m         \u001b[0mx_0\u001b[0m \u001b[1;33m=\u001b[0m \u001b[0mtf\u001b[0m\u001b[1;33m.\u001b[0m\u001b[0mnn\u001b[0m\u001b[1;33m.\u001b[0m\u001b[0mtanh\u001b[0m\u001b[1;33m(\u001b[0m\u001b[0mout\u001b[0m\u001b[1;33m)\u001b[0m\u001b[1;33m\u001b[0m\u001b[0m\n\u001b[0;32m     39\u001b[0m \u001b[1;33m\u001b[0m\u001b[0m\n\u001b[1;32m---> 40\u001b[1;33m         \u001b[0moutput\u001b[0m\u001b[1;33m[\u001b[0m\u001b[1;36m0\u001b[0m\u001b[1;33m]\u001b[0m \u001b[1;33m=\u001b[0m \u001b[0mx_0\u001b[0m\u001b[1;33m.\u001b[0m\u001b[0mdata\u001b[0m\u001b[1;33m\u001b[0m\u001b[0m\n\u001b[0m\u001b[0;32m     41\u001b[0m \u001b[1;33m\u001b[0m\u001b[0m\n\u001b[0;32m     42\u001b[0m         \u001b[0mrec_loss\u001b[0m \u001b[1;33m=\u001b[0m \u001b[0mtf\u001b[0m\u001b[1;33m.\u001b[0m\u001b[0mnn\u001b[0m\u001b[1;33m.\u001b[0m\u001b[0msigmoid_cross_entropy_with_logits\u001b[0m\u001b[1;33m(\u001b[0m\u001b[0mout\u001b[0m\u001b[1;33m,\u001b[0m \u001b[0mtf\u001b[0m\u001b[1;33m.\u001b[0m\u001b[0mVariable\u001b[0m\u001b[1;33m(\u001b[0m\u001b[0mself\u001b[0m\u001b[1;33m.\u001b[0m\u001b[0mx\u001b[0m\u001b[1;33m[\u001b[0m\u001b[1;36m0\u001b[0m\u001b[1;33m]\u001b[0m\u001b[1;33m.\u001b[0m\u001b[0mreshape\u001b[0m\u001b[1;33m(\u001b[0m\u001b[1;33m(\u001b[0m\u001b[1;36m1\u001b[0m\u001b[1;33m,\u001b[0m \u001b[0mself\u001b[0m\u001b[1;33m.\u001b[0m\u001b[0mx\u001b[0m\u001b[1;33m.\u001b[0m\u001b[0mshape\u001b[0m\u001b[1;33m[\u001b[0m\u001b[1;36m1\u001b[0m\u001b[1;33m]\u001b[0m\u001b[1;33m)\u001b[0m\u001b[1;33m)\u001b[0m\u001b[1;33m.\u001b[0m\u001b[0mastype\u001b[0m\u001b[1;33m(\u001b[0m\u001b[0mnp\u001b[0m\u001b[1;33m.\u001b[0m\u001b[0mint32\u001b[0m\u001b[1;33m)\u001b[0m\u001b[1;33m)\u001b[0m\u001b[1;33m)\u001b[0m\u001b[1;33m\u001b[0m\u001b[0m\n",
      "\u001b[1;31mAttributeError\u001b[0m: 'Tensor' object has no attribute 'data'"
     ]
    }
   ],
   "source": [
    "display_step = 1\n",
    "\n",
    "model = VARE(n_batch, n_z, n_hidden, n_input, train_x)\n",
    "\n",
    "for epoch in xrange(1, n_epochs + 1):\n",
    "    print('epoch', epoch)\n",
    "    t1 = time.time()\n",
    "    total_loss = 0.0\n",
    "    outputs = np.zeros(train_x.shape, dtype=np.float32)\n",
    "    for i in xrange(n_batch):\n",
    "        x_batch = split_x[i]\n",
    "        print x_batch\n",
    "        cost = model.partial_fit(x_batch)\n",
    "        if epoch % display_step == 0:\n",
    "            print \"Epoch:\", '%04d' % (epoch + 1), \\\n",
    "                \"cost=\", \"{:.9f}\".format(cost)\n"
   ]
  },
  {
   "cell_type": "code",
   "execution_count": 11,
   "metadata": {
    "collapsed": false
   },
   "outputs": [
    {
     "data": {
      "text/plain": [
       "500"
      ]
     },
     "execution_count": 11,
     "metadata": {},
     "output_type": "execute_result"
    }
   ],
   "source": [
    "n_hidden[-1]"
   ]
  },
  {
   "cell_type": "code",
   "execution_count": null,
   "metadata": {
    "collapsed": true
   },
   "outputs": [],
   "source": []
  }
 ],
 "metadata": {
  "kernelspec": {
   "display_name": "Python 2",
   "language": "python",
   "name": "python2"
  },
  "language_info": {
   "codemirror_mode": {
    "name": "ipython",
    "version": 2
   },
   "file_extension": ".py",
   "mimetype": "text/x-python",
   "name": "python",
   "nbconvert_exporter": "python",
   "pygments_lexer": "ipython2",
   "version": "2.7.6"
  }
 },
 "nbformat": 4,
 "nbformat_minor": 0
}
